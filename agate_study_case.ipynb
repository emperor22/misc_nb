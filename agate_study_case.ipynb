{
 "cells": [
  {
   "cell_type": "code",
   "execution_count": 1,
   "metadata": {},
   "outputs": [
    {
     "data": {
      "text/html": [
       "        <script type=\"text/javascript\">\n",
       "        window.PlotlyConfig = {MathJaxConfig: 'local'};\n",
       "        if (window.MathJax) {MathJax.Hub.Config({SVG: {font: \"STIX-Web\"}});}\n",
       "        if (typeof require !== 'undefined') {\n",
       "        require.undef(\"plotly\");\n",
       "        requirejs.config({\n",
       "            paths: {\n",
       "                'plotly': ['https://cdn.plot.ly/plotly-latest.min']\n",
       "            }\n",
       "        });\n",
       "        require(['plotly'], function(Plotly) {\n",
       "            window._Plotly = Plotly;\n",
       "        });\n",
       "        }\n",
       "        </script>\n",
       "        "
      ]
     },
     "metadata": {},
     "output_type": "display_data"
    }
   ],
   "source": [
    "import pandas as pd\n",
    "import numpy as np\n",
    "import plotly.graph_objs as go\n",
    "import plotly.offline as py\n",
    "from plotly.offline import iplot\n",
    "py.offline.init_notebook_mode(connected=True)\n",
    "import plotly.io as plt_io\n",
    "from plotly.subplots import make_subplots\n",
    "import plotly.express as px\n",
    "import chart_studio\n",
    "import chart_studio.plotly as py\n",
    "import seaborn as sns\n",
    "sns.set(style='ticks')\n",
    "import matplotlib.pyplot as plt\n",
    "plt.rcParams.update({'figure.max_open_warning': 0})\n",
    "plt_io.templates['custom_dark'] = plt_io.templates['plotly_dark']\n",
    "plt_io.templates['custom_dark']['layout']['paper_bgcolor'] = '#30404D'\n",
    "plt_io.templates['custom_dark']['layout']['plot_bgcolor'] = '#30404D'\n",
    "plt_io.templates['custom_dark']['layout']['yaxis']['gridcolor'] = '#4f687d'\n",
    "plt_io.templates['custom_dark']['layout']['xaxis']['gridcolor'] = '#4f687d'\n",
    "api_key = 'gEcq2L8QDTvCxLQsXaUb'\n",
    "username = 'emperor22'\n",
    "chart_studio.tools.set_credentials_file(username=username, api_key=api_key)\n",
    "chart_studio.tools.set_config_file(world_readable=True, sharing='public')"
   ]
  },
  {
   "cell_type": "code",
   "execution_count": 249,
   "metadata": {},
   "outputs": [],
   "source": [
    "df1 = pd.read_csv('2017.csv').set_index(\"KPI's\").transpose().reset_index().set_index('index')\n",
    "df2 = pd.read_csv('2018.csv').set_index(\"KPI's\").transpose().reset_index().set_index('index')\n",
    "\n",
    "df = pd.concat([df1, df2])\n",
    "df['Gross Revenue'] = df['Gross Revenue'].apply(lambda x: x[2:].replace(',', '')).astype('float')\n",
    "df['ARPPU'] = df['ARPPU'].apply(lambda x: x[2:]).astype('float')\n",
    "df['ARPDAU'] = df['ARPDAU'].apply(lambda x: x[2:]).astype('float')\n",
    "df['Conversion Rate'] = df['Conversion Rate'].apply(lambda x: x[:-1]).astype('float')\n",
    "df.rename(columns={'Playtime / Day (in minu': 'Playtime'}, inplace=True)\n",
    "\n",
    "for i in [1, 7, 30]:\n",
    "    df[f'D{i} Retention'] = df[f'D{i} Retention'].apply(lambda x: x[:-1]).astype('float')"
   ]
  },
  {
   "cell_type": "code",
   "execution_count": 252,
   "metadata": {},
   "outputs": [
    {
     "data": {
      "text/html": [
       "<script src=\"https://cdn.rawgit.com/parente/4c3e6936d0d7a46fd071/raw/65b816fb9bdd3c28b4ddf3af602bfd6015486383/code_toggle.js\"></script>\n"
      ],
      "text/plain": [
       "<IPython.core.display.HTML object>"
      ]
     },
     "metadata": {},
     "output_type": "display_data"
    }
   ],
   "source": [
    "%%html\n",
    "<script src=\"https://cdn.rawgit.com/parente/4c3e6936d0d7a46fd071/raw/65b816fb9bdd3c28b4ddf3af602bfd6015486383/code_toggle.js\"></script>"
   ]
  },
  {
   "cell_type": "code",
   "execution_count": 221,
   "metadata": {},
   "outputs": [],
   "source": [
    "from sklearn.preprocessing import MinMaxScaler\n",
    "\n",
    "scale = MinMaxScaler()\n",
    "\n",
    "df_norm = df.copy()\n",
    "df_norm = df_norm[[i for i in cols if i != 'index']]\n",
    "cols = df_norm.columns\n",
    "\n",
    "for i in df_norm.columns:\n",
    "    df_norm[i] = pd.to_numeric(df_norm[i])\n",
    "\n",
    "df_norm = pd.DataFrame(scaler.fit_transform(df_norm), columns=cols)"
   ]
  },
  {
   "cell_type": "code",
   "execution_count": 225,
   "metadata": {},
   "outputs": [],
   "source": [
    "df_norm_ = pd.concat([df_norm, df.reset_index()['index']], axis=1)"
   ]
  },
  {
   "cell_type": "code",
   "execution_count": 251,
   "metadata": {
    "scrolled": false
   },
   "outputs": [
    {
     "data": {
      "application/vnd.plotly.v1+json": {
       "config": {
        "plotlyServerURL": "https://plotly.com"
       },
       "data": [
        {
         "name": "New User",
         "type": "scatter",
         "x": [
          "Jan-17",
          "Feb-17",
          "Mar-17",
          "Apr-17",
          "May-17",
          "Jun-17",
          "Jul-17",
          "Aug-17",
          "Sep-17",
          "Oct-17",
          "Nov-17",
          "Dec-17",
          "Jan-18",
          "Feb-18",
          "Mar-18",
          "Apr-18",
          "May-18",
          "Jun-18",
          "Jul-18",
          "Aug-18",
          "Sep-18",
          "Oct-18",
          "Nov-18",
          "Dec-18",
          "Jan-19"
         ],
         "xaxis": "x",
         "y": [
          1,
          0.6532604970308249,
          0.6901076457134064,
          0.5849729661674908,
          0.7171624617924166,
          0.5370674761661619,
          0.36511411564744806,
          0.20743657716008368,
          0.12458644881058133,
          0.11218515902048697,
          0.10054627226881353,
          0,
          0.10088200938665025,
          0.03430114220565299,
          0.007903811315739764,
          0.00502206772097448,
          0.01954969259070148,
          0.05697738670620904,
          0.019780511859214242,
          0.007582063244479562,
          0.011624897705096907,
          0.014716476998510156,
          0.051150948807084054,
          0.13332260839762466,
          0.15906245409844094
         ],
         "yaxis": "y"
        },
        {
         "name": "DAU",
         "type": "scatter",
         "x": [
          "Jan-17",
          "Feb-17",
          "Mar-17",
          "Apr-17",
          "May-17",
          "Jun-17",
          "Jul-17",
          "Aug-17",
          "Sep-17",
          "Oct-17",
          "Nov-17",
          "Dec-17",
          "Jan-18",
          "Feb-18",
          "Mar-18",
          "Apr-18",
          "May-18",
          "Jun-18",
          "Jul-18",
          "Aug-18",
          "Sep-18",
          "Oct-18",
          "Nov-18",
          "Dec-18",
          "Jan-19"
         ],
         "xaxis": "x",
         "y": [
          1,
          0.8165508942733687,
          0.7401958103155937,
          0.6897117540884975,
          0.733140075479954,
          0.6858283651479515,
          0.452004594431986,
          0.28742547721927475,
          0.20647596127550183,
          0.15834381666028552,
          0.13974730624077014,
          0.07908986490182136,
          0.09008368429688783,
          0.06640048132144614,
          0.029316851720177214,
          0.020346770223705082,
          0.02526937592298857,
          0.05453153202428486,
          0.013728600339112842,
          0.0021331291363561877,
          0.0014220860909041205,
          0,
          0.028933982388010718,
          0.08144177651370126,
          0.09708472351364657
         ],
         "yaxis": "y"
        },
        {
         "line": {
          "color": "#ccf6c8"
         },
         "mode": "lines+markers",
         "name": "Gross Revenue",
         "type": "scatter",
         "x": [
          "Jan-17",
          "Feb-17",
          "Mar-17",
          "Apr-17",
          "May-17",
          "Jun-17",
          "Jul-17",
          "Aug-17",
          "Sep-17",
          "Oct-17",
          "Nov-17",
          "Dec-17",
          "Jan-18",
          "Feb-18",
          "Mar-18",
          "Apr-18",
          "May-18",
          "Jun-18",
          "Jul-18",
          "Aug-18",
          "Sep-18",
          "Oct-18",
          "Nov-18",
          "Dec-18",
          "Jan-19"
         ],
         "xaxis": "x",
         "y": [
          1,
          0.621101740534721,
          0.660982799723155,
          0.6076850119197149,
          0.6412601573915049,
          0.5845992156058547,
          0.39372997359719053,
          0.23970162261926123,
          0.21055087026736052,
          0.18645510240701343,
          0.0005998308169490657,
          0,
          0.1359975391556228,
          0.1250877957499167,
          0.10548306887800876,
          0.0706775012176053,
          0.0908205377970316,
          0.1023147317423291,
          0.07921355515111123,
          0.06855502294224705,
          0.0751787957242829,
          0.07596318986952398,
          0.09137422778190767,
          0.1310297095690959,
          0.09810053574632795
         ],
         "yaxis": "y"
        },
        {
         "name": "ARPPU",
         "type": "scatter",
         "x": [
          "Jan-17",
          "Feb-17",
          "Mar-17",
          "Apr-17",
          "May-17",
          "Jun-17",
          "Jul-17",
          "Aug-17",
          "Sep-17",
          "Oct-17",
          "Nov-17",
          "Dec-17",
          "Jan-18",
          "Feb-18",
          "Mar-18",
          "Apr-18",
          "May-18",
          "Jun-18",
          "Jul-18",
          "Aug-18",
          "Sep-18",
          "Oct-18",
          "Nov-18",
          "Dec-18",
          "Jan-19"
         ],
         "xaxis": "x2",
         "y": [
          0.3333333333333333,
          0.06,
          0.1422222222222222,
          0.1777777777777777,
          0.19999999999999996,
          0,
          0.39999999999999997,
          0.19111111111111106,
          0.15333333333333327,
          0.10222222222222216,
          0.6844444444444444,
          0.5288888888888887,
          0.3133333333333333,
          0.371111111111111,
          0.29777777777777775,
          0.16666666666666663,
          0.25333333333333335,
          0.31111111111111106,
          0.30444444444444446,
          0.28444444444444433,
          0.32444444444444437,
          0.33111111111111097,
          0.4666666666666666,
          1,
          0.8311111111111111
         ],
         "yaxis": "y3"
        },
        {
         "name": "ARPDAU",
         "type": "scatter",
         "x": [
          "Jan-17",
          "Feb-17",
          "Mar-17",
          "Apr-17",
          "May-17",
          "Jun-17",
          "Jul-17",
          "Aug-17",
          "Sep-17",
          "Oct-17",
          "Nov-17",
          "Dec-17",
          "Jan-18",
          "Feb-18",
          "Mar-18",
          "Apr-18",
          "May-18",
          "Jun-18",
          "Jul-18",
          "Aug-18",
          "Sep-18",
          "Oct-18",
          "Nov-18",
          "Dec-18",
          "Jan-19"
         ],
         "xaxis": "x2",
         "y": [
          0.8333333333333335,
          0.3333333333333335,
          0.5,
          0.5,
          0.5,
          0.5,
          0.3333333333333335,
          0.16666666666666652,
          0.3333333333333335,
          0.3333333333333335,
          0.8333333333333335,
          1,
          0.3333333333333335,
          0.3333333333333335,
          0.5,
          0.16666666666666652,
          0.3333333333333335,
          0.3333333333333335,
          0.3333333333333335,
          0.16666666666666652,
          0.3333333333333335,
          0.3333333333333335,
          0.3333333333333335,
          0.3333333333333335,
          0
         ],
         "yaxis": "y3"
        },
        {
         "name": "Conversion Rate",
         "type": "scatter",
         "x": [
          "Jan-17",
          "Feb-17",
          "Mar-17",
          "Apr-17",
          "May-17",
          "Jun-17",
          "Jul-17",
          "Aug-17",
          "Sep-17",
          "Oct-17",
          "Nov-17",
          "Dec-17",
          "Jan-18",
          "Feb-18",
          "Mar-18",
          "Apr-18",
          "May-18",
          "Jun-18",
          "Jul-18",
          "Aug-18",
          "Sep-18",
          "Oct-18",
          "Nov-18",
          "Dec-18",
          "Jan-19"
         ],
         "xaxis": "x2",
         "y": [
          0.40476190476190477,
          0.7142857142857142,
          0.5714285714285714,
          0.5476190476190477,
          0.45238095238095233,
          1,
          0.3095238095238095,
          0.44047619047619047,
          0.5952380952380952,
          0.6309523809523809,
          0.26190476190476186,
          0.5833333333333333,
          0.25,
          0.3333333333333333,
          0.3928571428571428,
          0.34523809523809523,
          0.3214285714285714,
          0.23809523809523808,
          0.23809523809523808,
          0.22619047619047616,
          0.22619047619047616,
          0.2142857142857143,
          0.14285714285714285,
          0.023809523809523794,
          0
         ],
         "yaxis": "y3"
        },
        {
         "line": {
          "color": "#ccf6c8"
         },
         "mode": "lines+markers",
         "name": "Gross Revenue",
         "type": "scatter",
         "x": [
          "Jan-17",
          "Feb-17",
          "Mar-17",
          "Apr-17",
          "May-17",
          "Jun-17",
          "Jul-17",
          "Aug-17",
          "Sep-17",
          "Oct-17",
          "Nov-17",
          "Dec-17",
          "Jan-18",
          "Feb-18",
          "Mar-18",
          "Apr-18",
          "May-18",
          "Jun-18",
          "Jul-18",
          "Aug-18",
          "Sep-18",
          "Oct-18",
          "Nov-18",
          "Dec-18",
          "Jan-19"
         ],
         "xaxis": "x2",
         "y": [
          1,
          0.621101740534721,
          0.660982799723155,
          0.6076850119197149,
          0.6412601573915049,
          0.5845992156058547,
          0.39372997359719053,
          0.23970162261926123,
          0.21055087026736052,
          0.18645510240701343,
          0.0005998308169490657,
          0,
          0.1359975391556228,
          0.1250877957499167,
          0.10548306887800876,
          0.0706775012176053,
          0.0908205377970316,
          0.1023147317423291,
          0.07921355515111123,
          0.06855502294224705,
          0.0751787957242829,
          0.07596318986952398,
          0.09137422778190767,
          0.1310297095690959,
          0.09810053574632795
         ],
         "yaxis": "y3"
        },
        {
         "name": "D1 Retention",
         "type": "scatter",
         "x": [
          "Jan-17",
          "Feb-17",
          "Mar-17",
          "Apr-17",
          "May-17",
          "Jun-17",
          "Jul-17",
          "Aug-17",
          "Sep-17",
          "Oct-17",
          "Nov-17",
          "Dec-17",
          "Jan-18",
          "Feb-18",
          "Mar-18",
          "Apr-18",
          "May-18",
          "Jun-18",
          "Jul-18",
          "Aug-18",
          "Sep-18",
          "Oct-18",
          "Nov-18",
          "Dec-18",
          "Jan-19"
         ],
         "xaxis": "x3",
         "y": [
          1,
          0.8375184638109312,
          0.8449039881831606,
          0.8404726735598231,
          0.8227474150664698,
          0.8404726735598231,
          0.5302806499261452,
          0.431314623338257,
          0.2038404726735603,
          0.25701624815361956,
          0.3293943870014777,
          0,
          0.41949778434268836,
          0.2983751846381102,
          0.31314623338257075,
          0.3648449039881836,
          0.38995568685376725,
          0.568685376661743,
          0.3013293943870021,
          0.3825701624815361,
          0.31166912850812434,
          0.212703101920237,
          0.4933530280649929,
          0.5657311669128502,
          0.3929098966026592
         ],
         "yaxis": "y5"
        },
        {
         "name": "D7 Retention",
         "type": "scatter",
         "x": [
          "Jan-17",
          "Feb-17",
          "Mar-17",
          "Apr-17",
          "May-17",
          "Jun-17",
          "Jul-17",
          "Aug-17",
          "Sep-17",
          "Oct-17",
          "Nov-17",
          "Dec-17",
          "Jan-18",
          "Feb-18",
          "Mar-18",
          "Apr-18",
          "May-18",
          "Jun-18",
          "Jul-18",
          "Aug-18",
          "Sep-18",
          "Oct-18",
          "Nov-18",
          "Dec-18",
          "Jan-19"
         ],
         "xaxis": "x3",
         "y": [
          0.8459302325581395,
          0.9360465116279069,
          0.7761627906976742,
          1,
          0.8226744186046511,
          0.6017441860465117,
          0.49127906976744196,
          0.4709302325581396,
          0.18604651162790684,
          0.22383720930232548,
          0.22383720930232548,
          0.04360465116279099,
          0.2180232558139536,
          0.011627906976744205,
          0.22674418604651175,
          0.11337209302325577,
          0.05813953488372102,
          0.1308139534883723,
          0.10755813953488388,
          0.04651162790697682,
          0.11337209302325577,
          0.09011627906976737,
          0.19476744186046518,
          0,
          0.037790697674418665
         ],
         "yaxis": "y5"
        },
        {
         "name": "D30 Retention",
         "type": "scatter",
         "x": [
          "Jan-17",
          "Feb-17",
          "Mar-17",
          "Apr-17",
          "May-17",
          "Jun-17",
          "Jul-17",
          "Aug-17",
          "Sep-17",
          "Oct-17",
          "Nov-17",
          "Dec-17",
          "Jan-18",
          "Feb-18",
          "Mar-18",
          "Apr-18",
          "May-18",
          "Jun-18",
          "Jul-18",
          "Aug-18",
          "Sep-18",
          "Oct-18",
          "Nov-18",
          "Dec-18",
          "Jan-19"
         ],
         "xaxis": "x3",
         "y": [
          0.946666666666667,
          1,
          0.6666666666666669,
          0.7955555555555557,
          0.8622222222222223,
          0.7066666666666668,
          0.5733333333333334,
          0.5511111111111112,
          0.5466666666666667,
          0.6222222222222223,
          0.6133333333333334,
          0,
          0.5333333333333334,
          0.528888888888889,
          0.47111111111111115,
          0.6266666666666668,
          0.5155555555555557,
          0.32000000000000006,
          0.5555555555555557,
          0.3155555555555556,
          0.4800000000000001,
          0.4800000000000001,
          0.5066666666666668,
          0.4177777777777779,
          0.33333333333333337
         ],
         "yaxis": "y5"
        },
        {
         "name": "Avg. Session",
         "type": "scatter",
         "x": [
          "Jan-17",
          "Feb-17",
          "Mar-17",
          "Apr-17",
          "May-17",
          "Jun-17",
          "Jul-17",
          "Aug-17",
          "Sep-17",
          "Oct-17",
          "Nov-17",
          "Dec-17",
          "Jan-18",
          "Feb-18",
          "Mar-18",
          "Apr-18",
          "May-18",
          "Jun-18",
          "Jul-18",
          "Aug-18",
          "Sep-18",
          "Oct-18",
          "Nov-18",
          "Dec-18",
          "Jan-19"
         ],
         "xaxis": "x3",
         "y": [
          1,
          1,
          0.6666666666666667,
          0.6666666666666667,
          1,
          1,
          1,
          0.6666666666666667,
          0.3333333333333334,
          0.6666666666666667,
          0.6666666666666667,
          0.3333333333333334,
          0.3333333333333334,
          0.3333333333333334,
          0.3333333333333334,
          0,
          0,
          0.3333333333333334,
          0.3333333333333334,
          0.6666666666666667,
          0,
          0,
          0,
          0.3333333333333334,
          0
         ],
         "yaxis": "y5"
        },
        {
         "line": {
          "color": "#ccf6c8"
         },
         "mode": "lines+markers",
         "name": "Gross Revenue",
         "type": "scatter",
         "x": [
          "Jan-17",
          "Feb-17",
          "Mar-17",
          "Apr-17",
          "May-17",
          "Jun-17",
          "Jul-17",
          "Aug-17",
          "Sep-17",
          "Oct-17",
          "Nov-17",
          "Dec-17",
          "Jan-18",
          "Feb-18",
          "Mar-18",
          "Apr-18",
          "May-18",
          "Jun-18",
          "Jul-18",
          "Aug-18",
          "Sep-18",
          "Oct-18",
          "Nov-18",
          "Dec-18",
          "Jan-19"
         ],
         "xaxis": "x3",
         "y": [
          1,
          0.621101740534721,
          0.660982799723155,
          0.6076850119197149,
          0.6412601573915049,
          0.5845992156058547,
          0.39372997359719053,
          0.23970162261926123,
          0.21055087026736052,
          0.18645510240701343,
          0.0005998308169490657,
          0,
          0.1359975391556228,
          0.1250877957499167,
          0.10548306887800876,
          0.0706775012176053,
          0.0908205377970316,
          0.1023147317423291,
          0.07921355515111123,
          0.06855502294224705,
          0.0751787957242829,
          0.07596318986952398,
          0.09137422778190767,
          0.1310297095690959,
          0.09810053574632795
         ],
         "yaxis": "y5"
        },
        {
         "name": "Playtime",
         "type": "scatter",
         "x": [
          "Jan-17",
          "Feb-17",
          "Mar-17",
          "Apr-17",
          "May-17",
          "Jun-17",
          "Jul-17",
          "Aug-17",
          "Sep-17",
          "Oct-17",
          "Nov-17",
          "Dec-17",
          "Jan-18",
          "Feb-18",
          "Mar-18",
          "Apr-18",
          "May-18",
          "Jun-18",
          "Jul-18",
          "Aug-18",
          "Sep-18",
          "Oct-18",
          "Nov-18",
          "Dec-18",
          "Jan-19"
         ],
         "xaxis": "x4",
         "y": [
          1,
          0.833333333333333,
          0.833333333333333,
          0.6666666666666665,
          1,
          0.6666666666666665,
          0.5,
          0.16666666666666652,
          0.833333333333333,
          0.5,
          0.33333333333333326,
          0.16666666666666652,
          0.16666666666666652,
          0.33333333333333326,
          0,
          0.16666666666666652,
          0,
          0.33333333333333326,
          0.16666666666666652,
          0.16666666666666652,
          0.16666666666666652,
          0.33333333333333326,
          0,
          0,
          0.16666666666666652
         ],
         "yaxis": "y7"
        },
        {
         "name": "Paying User",
         "type": "scatter",
         "x": [
          "Jan-17",
          "Feb-17",
          "Mar-17",
          "Apr-17",
          "May-17",
          "Jun-17",
          "Jul-17",
          "Aug-17",
          "Sep-17",
          "Oct-17",
          "Nov-17",
          "Dec-17",
          "Jan-18",
          "Feb-18",
          "Mar-18",
          "Apr-18",
          "May-18",
          "Jun-18",
          "Jul-18",
          "Aug-18",
          "Sep-18",
          "Oct-18",
          "Nov-18",
          "Dec-18",
          "Jan-19"
         ],
         "xaxis": "x4",
         "y": [
          0.7767332549941247,
          0.8707403055229144,
          0.7414806110458285,
          0.6239717978848415,
          0.6274970622796711,
          1,
          0.24794359576968278,
          0.21269095182138664,
          0.20094007050528795,
          0.20211515863689783,
          0.07403055229142187,
          0.07403055229142187,
          0.07168037602820214,
          0.0528789659224442,
          0.04817861339600472,
          0.036427732079906,
          0.04230317273795535,
          0.04347826086956523,
          0.024676850763807295,
          0.017626321974148065,
          0.01880141010575793,
          0.01880141010575793,
          0.017626321974148065,
          0.007050528789659229,
          0
         ],
         "yaxis": "y7"
        },
        {
         "line": {
          "color": "#ccf6c8"
         },
         "mode": "lines+markers",
         "name": "Gross Revenue",
         "type": "scatter",
         "x": [
          "Jan-17",
          "Feb-17",
          "Mar-17",
          "Apr-17",
          "May-17",
          "Jun-17",
          "Jul-17",
          "Aug-17",
          "Sep-17",
          "Oct-17",
          "Nov-17",
          "Dec-17",
          "Jan-18",
          "Feb-18",
          "Mar-18",
          "Apr-18",
          "May-18",
          "Jun-18",
          "Jul-18",
          "Aug-18",
          "Sep-18",
          "Oct-18",
          "Nov-18",
          "Dec-18",
          "Jan-19"
         ],
         "xaxis": "x4",
         "y": [
          1,
          0.621101740534721,
          0.660982799723155,
          0.6076850119197149,
          0.6412601573915049,
          0.5845992156058547,
          0.39372997359719053,
          0.23970162261926123,
          0.21055087026736052,
          0.18645510240701343,
          0.0005998308169490657,
          0,
          0.1359975391556228,
          0.1250877957499167,
          0.10548306887800876,
          0.0706775012176053,
          0.0908205377970316,
          0.1023147317423291,
          0.07921355515111123,
          0.06855502294224705,
          0.0751787957242829,
          0.07596318986952398,
          0.09137422778190767,
          0.1310297095690959,
          0.09810053574632795
         ],
         "yaxis": "y7"
        }
       ],
       "layout": {
        "annotations": [
         {
          "font": {
           "color": "#ffffff",
           "size": 12
          },
          "showarrow": false,
          "text": "Gross Revenue VS New User, DAU",
          "x": 0.47,
          "xanchor": "center",
          "xref": "paper",
          "y": 1,
          "yanchor": "bottom",
          "yref": "paper"
         },
         {
          "font": {
           "color": "#ffffff",
           "size": 12
          },
          "showarrow": false,
          "text": "Gross Revenue VS ARPPU, ARPDAU, Conversion Rate",
          "x": 0.47,
          "xanchor": "center",
          "xref": "paper",
          "y": 0.7250000000000001,
          "yanchor": "bottom",
          "yref": "paper"
         },
         {
          "font": {
           "color": "#ffffff",
           "size": 12
          },
          "showarrow": false,
          "text": "Gross Revenue VS Day 1, 7, 30 Retention, Avg. Session",
          "x": 0.47,
          "xanchor": "center",
          "xref": "paper",
          "y": 0.45,
          "yanchor": "bottom",
          "yref": "paper"
         },
         {
          "font": {
           "color": "#ffffff",
           "size": 12
          },
          "showarrow": false,
          "text": "Gross Revenue VS Daily Playing Time, Paying User",
          "x": 0.47,
          "xanchor": "center",
          "xref": "paper",
          "y": 0.175,
          "yanchor": "bottom",
          "yref": "paper"
         }
        ],
        "height": 600,
        "hovermode": "x",
        "legend": {
         "font": {
          "size": 10
         }
        },
        "shapes": [
         {
          "line": {
           "color": "white",
           "width": 1
          },
          "type": "line",
          "x0": "Dec-17",
          "x1": "Dec-17",
          "xref": "x",
          "y0": -0.2,
          "y1": 1.2,
          "yref": "y"
         },
         {
          "line": {
           "color": "white",
           "width": 1
          },
          "type": "line",
          "x0": "Dec-17",
          "x1": "Dec-17",
          "xref": "x2",
          "y0": -0.2,
          "y1": 1.2,
          "yref": "y3"
         },
         {
          "line": {
           "color": "white",
           "width": 1
          },
          "type": "line",
          "x0": "Dec-17",
          "x1": "Dec-17",
          "xref": "x3",
          "y0": -0.2,
          "y1": 1.2,
          "yref": "y5"
         },
         {
          "line": {
           "color": "white",
           "width": 1
          },
          "type": "line",
          "x0": "Dec-17",
          "x1": "Dec-17",
          "xref": "x4",
          "y0": -0.2,
          "y1": 1.2,
          "yref": "y7"
         }
        ],
        "template": {
         "data": {
          "bar": [
           {
            "error_x": {
             "color": "#f2f5fa"
            },
            "error_y": {
             "color": "#f2f5fa"
            },
            "marker": {
             "line": {
              "color": "rgb(17,17,17)",
              "width": 0.5
             }
            },
            "type": "bar"
           }
          ],
          "barpolar": [
           {
            "marker": {
             "line": {
              "color": "rgb(17,17,17)",
              "width": 0.5
             }
            },
            "type": "barpolar"
           }
          ],
          "carpet": [
           {
            "aaxis": {
             "endlinecolor": "#A2B1C6",
             "gridcolor": "#506784",
             "linecolor": "#506784",
             "minorgridcolor": "#506784",
             "startlinecolor": "#A2B1C6"
            },
            "baxis": {
             "endlinecolor": "#A2B1C6",
             "gridcolor": "#506784",
             "linecolor": "#506784",
             "minorgridcolor": "#506784",
             "startlinecolor": "#A2B1C6"
            },
            "type": "carpet"
           }
          ],
          "choropleth": [
           {
            "colorbar": {
             "outlinewidth": 0,
             "ticks": ""
            },
            "type": "choropleth"
           }
          ],
          "contour": [
           {
            "colorbar": {
             "outlinewidth": 0,
             "ticks": ""
            },
            "colorscale": [
             [
              0,
              "#0d0887"
             ],
             [
              0.1111111111111111,
              "#46039f"
             ],
             [
              0.2222222222222222,
              "#7201a8"
             ],
             [
              0.3333333333333333,
              "#9c179e"
             ],
             [
              0.4444444444444444,
              "#bd3786"
             ],
             [
              0.5555555555555556,
              "#d8576b"
             ],
             [
              0.6666666666666666,
              "#ed7953"
             ],
             [
              0.7777777777777778,
              "#fb9f3a"
             ],
             [
              0.8888888888888888,
              "#fdca26"
             ],
             [
              1,
              "#f0f921"
             ]
            ],
            "type": "contour"
           }
          ],
          "contourcarpet": [
           {
            "colorbar": {
             "outlinewidth": 0,
             "ticks": ""
            },
            "type": "contourcarpet"
           }
          ],
          "heatmap": [
           {
            "colorbar": {
             "outlinewidth": 0,
             "ticks": ""
            },
            "colorscale": [
             [
              0,
              "#0d0887"
             ],
             [
              0.1111111111111111,
              "#46039f"
             ],
             [
              0.2222222222222222,
              "#7201a8"
             ],
             [
              0.3333333333333333,
              "#9c179e"
             ],
             [
              0.4444444444444444,
              "#bd3786"
             ],
             [
              0.5555555555555556,
              "#d8576b"
             ],
             [
              0.6666666666666666,
              "#ed7953"
             ],
             [
              0.7777777777777778,
              "#fb9f3a"
             ],
             [
              0.8888888888888888,
              "#fdca26"
             ],
             [
              1,
              "#f0f921"
             ]
            ],
            "type": "heatmap"
           }
          ],
          "heatmapgl": [
           {
            "colorbar": {
             "outlinewidth": 0,
             "ticks": ""
            },
            "colorscale": [
             [
              0,
              "#0d0887"
             ],
             [
              0.1111111111111111,
              "#46039f"
             ],
             [
              0.2222222222222222,
              "#7201a8"
             ],
             [
              0.3333333333333333,
              "#9c179e"
             ],
             [
              0.4444444444444444,
              "#bd3786"
             ],
             [
              0.5555555555555556,
              "#d8576b"
             ],
             [
              0.6666666666666666,
              "#ed7953"
             ],
             [
              0.7777777777777778,
              "#fb9f3a"
             ],
             [
              0.8888888888888888,
              "#fdca26"
             ],
             [
              1,
              "#f0f921"
             ]
            ],
            "type": "heatmapgl"
           }
          ],
          "histogram": [
           {
            "marker": {
             "colorbar": {
              "outlinewidth": 0,
              "ticks": ""
             }
            },
            "type": "histogram"
           }
          ],
          "histogram2d": [
           {
            "colorbar": {
             "outlinewidth": 0,
             "ticks": ""
            },
            "colorscale": [
             [
              0,
              "#0d0887"
             ],
             [
              0.1111111111111111,
              "#46039f"
             ],
             [
              0.2222222222222222,
              "#7201a8"
             ],
             [
              0.3333333333333333,
              "#9c179e"
             ],
             [
              0.4444444444444444,
              "#bd3786"
             ],
             [
              0.5555555555555556,
              "#d8576b"
             ],
             [
              0.6666666666666666,
              "#ed7953"
             ],
             [
              0.7777777777777778,
              "#fb9f3a"
             ],
             [
              0.8888888888888888,
              "#fdca26"
             ],
             [
              1,
              "#f0f921"
             ]
            ],
            "type": "histogram2d"
           }
          ],
          "histogram2dcontour": [
           {
            "colorbar": {
             "outlinewidth": 0,
             "ticks": ""
            },
            "colorscale": [
             [
              0,
              "#0d0887"
             ],
             [
              0.1111111111111111,
              "#46039f"
             ],
             [
              0.2222222222222222,
              "#7201a8"
             ],
             [
              0.3333333333333333,
              "#9c179e"
             ],
             [
              0.4444444444444444,
              "#bd3786"
             ],
             [
              0.5555555555555556,
              "#d8576b"
             ],
             [
              0.6666666666666666,
              "#ed7953"
             ],
             [
              0.7777777777777778,
              "#fb9f3a"
             ],
             [
              0.8888888888888888,
              "#fdca26"
             ],
             [
              1,
              "#f0f921"
             ]
            ],
            "type": "histogram2dcontour"
           }
          ],
          "mesh3d": [
           {
            "colorbar": {
             "outlinewidth": 0,
             "ticks": ""
            },
            "type": "mesh3d"
           }
          ],
          "parcoords": [
           {
            "line": {
             "colorbar": {
              "outlinewidth": 0,
              "ticks": ""
             }
            },
            "type": "parcoords"
           }
          ],
          "pie": [
           {
            "automargin": true,
            "type": "pie"
           }
          ],
          "scatter": [
           {
            "marker": {
             "line": {
              "color": "#283442"
             }
            },
            "type": "scatter"
           }
          ],
          "scatter3d": [
           {
            "line": {
             "colorbar": {
              "outlinewidth": 0,
              "ticks": ""
             }
            },
            "marker": {
             "colorbar": {
              "outlinewidth": 0,
              "ticks": ""
             }
            },
            "type": "scatter3d"
           }
          ],
          "scattercarpet": [
           {
            "marker": {
             "colorbar": {
              "outlinewidth": 0,
              "ticks": ""
             }
            },
            "type": "scattercarpet"
           }
          ],
          "scattergeo": [
           {
            "marker": {
             "colorbar": {
              "outlinewidth": 0,
              "ticks": ""
             }
            },
            "type": "scattergeo"
           }
          ],
          "scattergl": [
           {
            "marker": {
             "line": {
              "color": "#283442"
             }
            },
            "type": "scattergl"
           }
          ],
          "scattermapbox": [
           {
            "marker": {
             "colorbar": {
              "outlinewidth": 0,
              "ticks": ""
             }
            },
            "type": "scattermapbox"
           }
          ],
          "scatterpolar": [
           {
            "marker": {
             "colorbar": {
              "outlinewidth": 0,
              "ticks": ""
             }
            },
            "type": "scatterpolar"
           }
          ],
          "scatterpolargl": [
           {
            "marker": {
             "colorbar": {
              "outlinewidth": 0,
              "ticks": ""
             }
            },
            "type": "scatterpolargl"
           }
          ],
          "scatterternary": [
           {
            "marker": {
             "colorbar": {
              "outlinewidth": 0,
              "ticks": ""
             }
            },
            "type": "scatterternary"
           }
          ],
          "surface": [
           {
            "colorbar": {
             "outlinewidth": 0,
             "ticks": ""
            },
            "colorscale": [
             [
              0,
              "#0d0887"
             ],
             [
              0.1111111111111111,
              "#46039f"
             ],
             [
              0.2222222222222222,
              "#7201a8"
             ],
             [
              0.3333333333333333,
              "#9c179e"
             ],
             [
              0.4444444444444444,
              "#bd3786"
             ],
             [
              0.5555555555555556,
              "#d8576b"
             ],
             [
              0.6666666666666666,
              "#ed7953"
             ],
             [
              0.7777777777777778,
              "#fb9f3a"
             ],
             [
              0.8888888888888888,
              "#fdca26"
             ],
             [
              1,
              "#f0f921"
             ]
            ],
            "type": "surface"
           }
          ],
          "table": [
           {
            "cells": {
             "fill": {
              "color": "#506784"
             },
             "line": {
              "color": "rgb(17,17,17)"
             }
            },
            "header": {
             "fill": {
              "color": "#2a3f5f"
             },
             "line": {
              "color": "rgb(17,17,17)"
             }
            },
            "type": "table"
           }
          ]
         },
         "layout": {
          "annotationdefaults": {
           "arrowcolor": "#f2f5fa",
           "arrowhead": 0,
           "arrowwidth": 1
          },
          "coloraxis": {
           "colorbar": {
            "outlinewidth": 0,
            "ticks": ""
           }
          },
          "colorscale": {
           "diverging": [
            [
             0,
             "#8e0152"
            ],
            [
             0.1,
             "#c51b7d"
            ],
            [
             0.2,
             "#de77ae"
            ],
            [
             0.3,
             "#f1b6da"
            ],
            [
             0.4,
             "#fde0ef"
            ],
            [
             0.5,
             "#f7f7f7"
            ],
            [
             0.6,
             "#e6f5d0"
            ],
            [
             0.7,
             "#b8e186"
            ],
            [
             0.8,
             "#7fbc41"
            ],
            [
             0.9,
             "#4d9221"
            ],
            [
             1,
             "#276419"
            ]
           ],
           "sequential": [
            [
             0,
             "#0d0887"
            ],
            [
             0.1111111111111111,
             "#46039f"
            ],
            [
             0.2222222222222222,
             "#7201a8"
            ],
            [
             0.3333333333333333,
             "#9c179e"
            ],
            [
             0.4444444444444444,
             "#bd3786"
            ],
            [
             0.5555555555555556,
             "#d8576b"
            ],
            [
             0.6666666666666666,
             "#ed7953"
            ],
            [
             0.7777777777777778,
             "#fb9f3a"
            ],
            [
             0.8888888888888888,
             "#fdca26"
            ],
            [
             1,
             "#f0f921"
            ]
           ],
           "sequentialminus": [
            [
             0,
             "#0d0887"
            ],
            [
             0.1111111111111111,
             "#46039f"
            ],
            [
             0.2222222222222222,
             "#7201a8"
            ],
            [
             0.3333333333333333,
             "#9c179e"
            ],
            [
             0.4444444444444444,
             "#bd3786"
            ],
            [
             0.5555555555555556,
             "#d8576b"
            ],
            [
             0.6666666666666666,
             "#ed7953"
            ],
            [
             0.7777777777777778,
             "#fb9f3a"
            ],
            [
             0.8888888888888888,
             "#fdca26"
            ],
            [
             1,
             "#f0f921"
            ]
           ]
          },
          "colorway": [
           "#636efa",
           "#EF553B",
           "#00cc96",
           "#ab63fa",
           "#FFA15A",
           "#19d3f3",
           "#FF6692",
           "#B6E880",
           "#FF97FF",
           "#FECB52"
          ],
          "font": {
           "color": "#f2f5fa"
          },
          "geo": {
           "bgcolor": "rgb(17,17,17)",
           "lakecolor": "rgb(17,17,17)",
           "landcolor": "rgb(17,17,17)",
           "showlakes": true,
           "showland": true,
           "subunitcolor": "#506784"
          },
          "hoverlabel": {
           "align": "left"
          },
          "hovermode": "closest",
          "mapbox": {
           "style": "dark"
          },
          "paper_bgcolor": "#30404D",
          "plot_bgcolor": "#30404D",
          "polar": {
           "angularaxis": {
            "gridcolor": "#506784",
            "linecolor": "#506784",
            "ticks": ""
           },
           "bgcolor": "rgb(17,17,17)",
           "radialaxis": {
            "gridcolor": "#506784",
            "linecolor": "#506784",
            "ticks": ""
           }
          },
          "scene": {
           "xaxis": {
            "backgroundcolor": "rgb(17,17,17)",
            "gridcolor": "#506784",
            "gridwidth": 2,
            "linecolor": "#506784",
            "showbackground": true,
            "ticks": "",
            "zerolinecolor": "#C8D4E3"
           },
           "yaxis": {
            "backgroundcolor": "rgb(17,17,17)",
            "gridcolor": "#506784",
            "gridwidth": 2,
            "linecolor": "#506784",
            "showbackground": true,
            "ticks": "",
            "zerolinecolor": "#C8D4E3"
           },
           "zaxis": {
            "backgroundcolor": "rgb(17,17,17)",
            "gridcolor": "#506784",
            "gridwidth": 2,
            "linecolor": "#506784",
            "showbackground": true,
            "ticks": "",
            "zerolinecolor": "#C8D4E3"
           }
          },
          "shapedefaults": {
           "line": {
            "color": "#f2f5fa"
           }
          },
          "sliderdefaults": {
           "bgcolor": "#C8D4E3",
           "bordercolor": "rgb(17,17,17)",
           "borderwidth": 1,
           "tickwidth": 0
          },
          "ternary": {
           "aaxis": {
            "gridcolor": "#506784",
            "linecolor": "#506784",
            "ticks": ""
           },
           "baxis": {
            "gridcolor": "#506784",
            "linecolor": "#506784",
            "ticks": ""
           },
           "bgcolor": "rgb(17,17,17)",
           "caxis": {
            "gridcolor": "#506784",
            "linecolor": "#506784",
            "ticks": ""
           }
          },
          "title": {
           "x": 0.05
          },
          "updatemenudefaults": {
           "bgcolor": "#506784",
           "borderwidth": 0
          },
          "xaxis": {
           "automargin": true,
           "gridcolor": "#4f687d",
           "linecolor": "#506784",
           "ticks": "",
           "title": {
            "standoff": 15
           },
           "zerolinecolor": "#283442",
           "zerolinewidth": 2
          },
          "yaxis": {
           "automargin": true,
           "gridcolor": "#4f687d",
           "linecolor": "#506784",
           "ticks": "",
           "title": {
            "standoff": 15
           },
           "zerolinecolor": "#283442",
           "zerolinewidth": 2
          }
         }
        },
        "width": 800,
        "xaxis": {
         "anchor": "y",
         "domain": [
          0,
          0.94
         ],
         "matches": "x4",
         "showgrid": false,
         "showticklabels": false,
         "visible": false
        },
        "xaxis2": {
         "anchor": "y3",
         "domain": [
          0,
          0.94
         ],
         "matches": "x4",
         "showgrid": false,
         "showticklabels": false,
         "visible": false
        },
        "xaxis3": {
         "anchor": "y5",
         "domain": [
          0,
          0.94
         ],
         "matches": "x4",
         "showgrid": false,
         "showticklabels": false,
         "visible": false
        },
        "xaxis4": {
         "anchor": "y7",
         "domain": [
          0,
          0.94
         ],
         "showgrid": false,
         "visible": false
        },
        "yaxis": {
         "anchor": "x",
         "domain": [
          0.825,
          1
         ],
         "showgrid": false,
         "visible": false
        },
        "yaxis2": {
         "anchor": "x",
         "overlaying": "y",
         "showgrid": false,
         "side": "right",
         "visible": false
        },
        "yaxis3": {
         "anchor": "x2",
         "domain": [
          0.55,
          0.7250000000000001
         ],
         "showgrid": false,
         "visible": false
        },
        "yaxis4": {
         "anchor": "x2",
         "overlaying": "y3",
         "showgrid": false,
         "side": "right",
         "visible": false
        },
        "yaxis5": {
         "anchor": "x3",
         "domain": [
          0.275,
          0.45
         ],
         "showgrid": false,
         "visible": false
        },
        "yaxis6": {
         "anchor": "x3",
         "overlaying": "y5",
         "showgrid": false,
         "side": "right",
         "visible": false
        },
        "yaxis7": {
         "anchor": "x4",
         "domain": [
          0,
          0.175
         ],
         "showgrid": false,
         "visible": false
        },
        "yaxis8": {
         "anchor": "x4",
         "overlaying": "y7",
         "showgrid": false,
         "side": "right",
         "visible": false
        }
       }
      },
      "text/html": [
       "<div>\n",
       "        \n",
       "        \n",
       "            <div id=\"1fd42154-8fb1-498a-b898-8d73257e5076\" class=\"plotly-graph-div\" style=\"height:600px; width:800px;\"></div>\n",
       "            <script type=\"text/javascript\">\n",
       "                require([\"plotly\"], function(Plotly) {\n",
       "                    window.PLOTLYENV=window.PLOTLYENV || {};\n",
       "                    \n",
       "                if (document.getElementById(\"1fd42154-8fb1-498a-b898-8d73257e5076\")) {\n",
       "                    Plotly.newPlot(\n",
       "                        '1fd42154-8fb1-498a-b898-8d73257e5076',\n",
       "                        [{\"name\": \"New User\", \"type\": \"scatter\", \"x\": [\"Jan-17\", \"Feb-17\", \"Mar-17\", \"Apr-17\", \"May-17\", \"Jun-17\", \"Jul-17\", \"Aug-17\", \"Sep-17\", \"Oct-17\", \"Nov-17\", \"Dec-17\", \"Jan-18\", \"Feb-18\", \"Mar-18\", \"Apr-18\", \"May-18\", \"Jun-18\", \"Jul-18\", \"Aug-18\", \"Sep-18\", \"Oct-18\", \"Nov-18\", \"Dec-18\", \"Jan-19\"], \"xaxis\": \"x\", \"y\": [1.0, 0.6532604970308249, 0.6901076457134064, 0.5849729661674908, 0.7171624617924166, 0.5370674761661619, 0.36511411564744806, 0.20743657716008368, 0.12458644881058133, 0.11218515902048697, 0.10054627226881353, 0.0, 0.10088200938665025, 0.03430114220565299, 0.007903811315739764, 0.00502206772097448, 0.01954969259070148, 0.05697738670620904, 0.019780511859214242, 0.007582063244479562, 0.011624897705096907, 0.014716476998510156, 0.051150948807084054, 0.13332260839762466, 0.15906245409844094], \"yaxis\": \"y\"}, {\"name\": \"DAU\", \"type\": \"scatter\", \"x\": [\"Jan-17\", \"Feb-17\", \"Mar-17\", \"Apr-17\", \"May-17\", \"Jun-17\", \"Jul-17\", \"Aug-17\", \"Sep-17\", \"Oct-17\", \"Nov-17\", \"Dec-17\", \"Jan-18\", \"Feb-18\", \"Mar-18\", \"Apr-18\", \"May-18\", \"Jun-18\", \"Jul-18\", \"Aug-18\", \"Sep-18\", \"Oct-18\", \"Nov-18\", \"Dec-18\", \"Jan-19\"], \"xaxis\": \"x\", \"y\": [1.0, 0.8165508942733687, 0.7401958103155937, 0.6897117540884975, 0.733140075479954, 0.6858283651479515, 0.452004594431986, 0.28742547721927475, 0.20647596127550183, 0.15834381666028552, 0.13974730624077014, 0.07908986490182136, 0.09008368429688783, 0.06640048132144614, 0.029316851720177214, 0.020346770223705082, 0.02526937592298857, 0.05453153202428486, 0.013728600339112842, 0.0021331291363561877, 0.0014220860909041205, 0.0, 0.028933982388010718, 0.08144177651370126, 0.09708472351364657], \"yaxis\": \"y\"}, {\"line\": {\"color\": \"#ccf6c8\"}, \"mode\": \"lines+markers\", \"name\": \"Gross Revenue\", \"type\": \"scatter\", \"x\": [\"Jan-17\", \"Feb-17\", \"Mar-17\", \"Apr-17\", \"May-17\", \"Jun-17\", \"Jul-17\", \"Aug-17\", \"Sep-17\", \"Oct-17\", \"Nov-17\", \"Dec-17\", \"Jan-18\", \"Feb-18\", \"Mar-18\", \"Apr-18\", \"May-18\", \"Jun-18\", \"Jul-18\", \"Aug-18\", \"Sep-18\", \"Oct-18\", \"Nov-18\", \"Dec-18\", \"Jan-19\"], \"xaxis\": \"x\", \"y\": [1.0, 0.621101740534721, 0.660982799723155, 0.6076850119197149, 0.6412601573915049, 0.5845992156058547, 0.39372997359719053, 0.23970162261926123, 0.21055087026736052, 0.18645510240701343, 0.0005998308169490657, 0.0, 0.1359975391556228, 0.1250877957499167, 0.10548306887800876, 0.0706775012176053, 0.0908205377970316, 0.1023147317423291, 0.07921355515111123, 0.06855502294224705, 0.0751787957242829, 0.07596318986952398, 0.09137422778190767, 0.1310297095690959, 0.09810053574632795], \"yaxis\": \"y\"}, {\"name\": \"ARPPU\", \"type\": \"scatter\", \"x\": [\"Jan-17\", \"Feb-17\", \"Mar-17\", \"Apr-17\", \"May-17\", \"Jun-17\", \"Jul-17\", \"Aug-17\", \"Sep-17\", \"Oct-17\", \"Nov-17\", \"Dec-17\", \"Jan-18\", \"Feb-18\", \"Mar-18\", \"Apr-18\", \"May-18\", \"Jun-18\", \"Jul-18\", \"Aug-18\", \"Sep-18\", \"Oct-18\", \"Nov-18\", \"Dec-18\", \"Jan-19\"], \"xaxis\": \"x2\", \"y\": [0.3333333333333333, 0.06, 0.1422222222222222, 0.1777777777777777, 0.19999999999999996, 0.0, 0.39999999999999997, 0.19111111111111106, 0.15333333333333327, 0.10222222222222216, 0.6844444444444444, 0.5288888888888887, 0.3133333333333333, 0.371111111111111, 0.29777777777777775, 0.16666666666666663, 0.25333333333333335, 0.31111111111111106, 0.30444444444444446, 0.28444444444444433, 0.32444444444444437, 0.33111111111111097, 0.4666666666666666, 1.0, 0.8311111111111111], \"yaxis\": \"y3\"}, {\"name\": \"ARPDAU\", \"type\": \"scatter\", \"x\": [\"Jan-17\", \"Feb-17\", \"Mar-17\", \"Apr-17\", \"May-17\", \"Jun-17\", \"Jul-17\", \"Aug-17\", \"Sep-17\", \"Oct-17\", \"Nov-17\", \"Dec-17\", \"Jan-18\", \"Feb-18\", \"Mar-18\", \"Apr-18\", \"May-18\", \"Jun-18\", \"Jul-18\", \"Aug-18\", \"Sep-18\", \"Oct-18\", \"Nov-18\", \"Dec-18\", \"Jan-19\"], \"xaxis\": \"x2\", \"y\": [0.8333333333333335, 0.3333333333333335, 0.5, 0.5, 0.5, 0.5, 0.3333333333333335, 0.16666666666666652, 0.3333333333333335, 0.3333333333333335, 0.8333333333333335, 1.0, 0.3333333333333335, 0.3333333333333335, 0.5, 0.16666666666666652, 0.3333333333333335, 0.3333333333333335, 0.3333333333333335, 0.16666666666666652, 0.3333333333333335, 0.3333333333333335, 0.3333333333333335, 0.3333333333333335, 0.0], \"yaxis\": \"y3\"}, {\"name\": \"Conversion Rate\", \"type\": \"scatter\", \"x\": [\"Jan-17\", \"Feb-17\", \"Mar-17\", \"Apr-17\", \"May-17\", \"Jun-17\", \"Jul-17\", \"Aug-17\", \"Sep-17\", \"Oct-17\", \"Nov-17\", \"Dec-17\", \"Jan-18\", \"Feb-18\", \"Mar-18\", \"Apr-18\", \"May-18\", \"Jun-18\", \"Jul-18\", \"Aug-18\", \"Sep-18\", \"Oct-18\", \"Nov-18\", \"Dec-18\", \"Jan-19\"], \"xaxis\": \"x2\", \"y\": [0.40476190476190477, 0.7142857142857142, 0.5714285714285714, 0.5476190476190477, 0.45238095238095233, 1.0, 0.3095238095238095, 0.44047619047619047, 0.5952380952380952, 0.6309523809523809, 0.26190476190476186, 0.5833333333333333, 0.25, 0.3333333333333333, 0.3928571428571428, 0.34523809523809523, 0.3214285714285714, 0.23809523809523808, 0.23809523809523808, 0.22619047619047616, 0.22619047619047616, 0.2142857142857143, 0.14285714285714285, 0.023809523809523794, 0.0], \"yaxis\": \"y3\"}, {\"line\": {\"color\": \"#ccf6c8\"}, \"mode\": \"lines+markers\", \"name\": \"Gross Revenue\", \"type\": \"scatter\", \"x\": [\"Jan-17\", \"Feb-17\", \"Mar-17\", \"Apr-17\", \"May-17\", \"Jun-17\", \"Jul-17\", \"Aug-17\", \"Sep-17\", \"Oct-17\", \"Nov-17\", \"Dec-17\", \"Jan-18\", \"Feb-18\", \"Mar-18\", \"Apr-18\", \"May-18\", \"Jun-18\", \"Jul-18\", \"Aug-18\", \"Sep-18\", \"Oct-18\", \"Nov-18\", \"Dec-18\", \"Jan-19\"], \"xaxis\": \"x2\", \"y\": [1.0, 0.621101740534721, 0.660982799723155, 0.6076850119197149, 0.6412601573915049, 0.5845992156058547, 0.39372997359719053, 0.23970162261926123, 0.21055087026736052, 0.18645510240701343, 0.0005998308169490657, 0.0, 0.1359975391556228, 0.1250877957499167, 0.10548306887800876, 0.0706775012176053, 0.0908205377970316, 0.1023147317423291, 0.07921355515111123, 0.06855502294224705, 0.0751787957242829, 0.07596318986952398, 0.09137422778190767, 0.1310297095690959, 0.09810053574632795], \"yaxis\": \"y3\"}, {\"name\": \"D1 Retention\", \"type\": \"scatter\", \"x\": [\"Jan-17\", \"Feb-17\", \"Mar-17\", \"Apr-17\", \"May-17\", \"Jun-17\", \"Jul-17\", \"Aug-17\", \"Sep-17\", \"Oct-17\", \"Nov-17\", \"Dec-17\", \"Jan-18\", \"Feb-18\", \"Mar-18\", \"Apr-18\", \"May-18\", \"Jun-18\", \"Jul-18\", \"Aug-18\", \"Sep-18\", \"Oct-18\", \"Nov-18\", \"Dec-18\", \"Jan-19\"], \"xaxis\": \"x3\", \"y\": [1.0, 0.8375184638109312, 0.8449039881831606, 0.8404726735598231, 0.8227474150664698, 0.8404726735598231, 0.5302806499261452, 0.431314623338257, 0.2038404726735603, 0.25701624815361956, 0.3293943870014777, 0.0, 0.41949778434268836, 0.2983751846381102, 0.31314623338257075, 0.3648449039881836, 0.38995568685376725, 0.568685376661743, 0.3013293943870021, 0.3825701624815361, 0.31166912850812434, 0.212703101920237, 0.4933530280649929, 0.5657311669128502, 0.3929098966026592], \"yaxis\": \"y5\"}, {\"name\": \"D7 Retention\", \"type\": \"scatter\", \"x\": [\"Jan-17\", \"Feb-17\", \"Mar-17\", \"Apr-17\", \"May-17\", \"Jun-17\", \"Jul-17\", \"Aug-17\", \"Sep-17\", \"Oct-17\", \"Nov-17\", \"Dec-17\", \"Jan-18\", \"Feb-18\", \"Mar-18\", \"Apr-18\", \"May-18\", \"Jun-18\", \"Jul-18\", \"Aug-18\", \"Sep-18\", \"Oct-18\", \"Nov-18\", \"Dec-18\", \"Jan-19\"], \"xaxis\": \"x3\", \"y\": [0.8459302325581395, 0.9360465116279069, 0.7761627906976742, 1.0, 0.8226744186046511, 0.6017441860465117, 0.49127906976744196, 0.4709302325581396, 0.18604651162790684, 0.22383720930232548, 0.22383720930232548, 0.04360465116279099, 0.2180232558139536, 0.011627906976744205, 0.22674418604651175, 0.11337209302325577, 0.05813953488372102, 0.1308139534883723, 0.10755813953488388, 0.04651162790697682, 0.11337209302325577, 0.09011627906976737, 0.19476744186046518, 0.0, 0.037790697674418665], \"yaxis\": \"y5\"}, {\"name\": \"D30 Retention\", \"type\": \"scatter\", \"x\": [\"Jan-17\", \"Feb-17\", \"Mar-17\", \"Apr-17\", \"May-17\", \"Jun-17\", \"Jul-17\", \"Aug-17\", \"Sep-17\", \"Oct-17\", \"Nov-17\", \"Dec-17\", \"Jan-18\", \"Feb-18\", \"Mar-18\", \"Apr-18\", \"May-18\", \"Jun-18\", \"Jul-18\", \"Aug-18\", \"Sep-18\", \"Oct-18\", \"Nov-18\", \"Dec-18\", \"Jan-19\"], \"xaxis\": \"x3\", \"y\": [0.946666666666667, 1.0, 0.6666666666666669, 0.7955555555555557, 0.8622222222222223, 0.7066666666666668, 0.5733333333333334, 0.5511111111111112, 0.5466666666666667, 0.6222222222222223, 0.6133333333333334, 0.0, 0.5333333333333334, 0.528888888888889, 0.47111111111111115, 0.6266666666666668, 0.5155555555555557, 0.32000000000000006, 0.5555555555555557, 0.3155555555555556, 0.4800000000000001, 0.4800000000000001, 0.5066666666666668, 0.4177777777777779, 0.33333333333333337], \"yaxis\": \"y5\"}, {\"name\": \"Avg. Session\", \"type\": \"scatter\", \"x\": [\"Jan-17\", \"Feb-17\", \"Mar-17\", \"Apr-17\", \"May-17\", \"Jun-17\", \"Jul-17\", \"Aug-17\", \"Sep-17\", \"Oct-17\", \"Nov-17\", \"Dec-17\", \"Jan-18\", \"Feb-18\", \"Mar-18\", \"Apr-18\", \"May-18\", \"Jun-18\", \"Jul-18\", \"Aug-18\", \"Sep-18\", \"Oct-18\", \"Nov-18\", \"Dec-18\", \"Jan-19\"], \"xaxis\": \"x3\", \"y\": [1.0, 1.0, 0.6666666666666667, 0.6666666666666667, 1.0, 1.0, 1.0, 0.6666666666666667, 0.3333333333333334, 0.6666666666666667, 0.6666666666666667, 0.3333333333333334, 0.3333333333333334, 0.3333333333333334, 0.3333333333333334, 0.0, 0.0, 0.3333333333333334, 0.3333333333333334, 0.6666666666666667, 0.0, 0.0, 0.0, 0.3333333333333334, 0.0], \"yaxis\": \"y5\"}, {\"line\": {\"color\": \"#ccf6c8\"}, \"mode\": \"lines+markers\", \"name\": \"Gross Revenue\", \"type\": \"scatter\", \"x\": [\"Jan-17\", \"Feb-17\", \"Mar-17\", \"Apr-17\", \"May-17\", \"Jun-17\", \"Jul-17\", \"Aug-17\", \"Sep-17\", \"Oct-17\", \"Nov-17\", \"Dec-17\", \"Jan-18\", \"Feb-18\", \"Mar-18\", \"Apr-18\", \"May-18\", \"Jun-18\", \"Jul-18\", \"Aug-18\", \"Sep-18\", \"Oct-18\", \"Nov-18\", \"Dec-18\", \"Jan-19\"], \"xaxis\": \"x3\", \"y\": [1.0, 0.621101740534721, 0.660982799723155, 0.6076850119197149, 0.6412601573915049, 0.5845992156058547, 0.39372997359719053, 0.23970162261926123, 0.21055087026736052, 0.18645510240701343, 0.0005998308169490657, 0.0, 0.1359975391556228, 0.1250877957499167, 0.10548306887800876, 0.0706775012176053, 0.0908205377970316, 0.1023147317423291, 0.07921355515111123, 0.06855502294224705, 0.0751787957242829, 0.07596318986952398, 0.09137422778190767, 0.1310297095690959, 0.09810053574632795], \"yaxis\": \"y5\"}, {\"name\": \"Playtime\", \"type\": \"scatter\", \"x\": [\"Jan-17\", \"Feb-17\", \"Mar-17\", \"Apr-17\", \"May-17\", \"Jun-17\", \"Jul-17\", \"Aug-17\", \"Sep-17\", \"Oct-17\", \"Nov-17\", \"Dec-17\", \"Jan-18\", \"Feb-18\", \"Mar-18\", \"Apr-18\", \"May-18\", \"Jun-18\", \"Jul-18\", \"Aug-18\", \"Sep-18\", \"Oct-18\", \"Nov-18\", \"Dec-18\", \"Jan-19\"], \"xaxis\": \"x4\", \"y\": [1.0, 0.833333333333333, 0.833333333333333, 0.6666666666666665, 1.0, 0.6666666666666665, 0.5, 0.16666666666666652, 0.833333333333333, 0.5, 0.33333333333333326, 0.16666666666666652, 0.16666666666666652, 0.33333333333333326, 0.0, 0.16666666666666652, 0.0, 0.33333333333333326, 0.16666666666666652, 0.16666666666666652, 0.16666666666666652, 0.33333333333333326, 0.0, 0.0, 0.16666666666666652], \"yaxis\": \"y7\"}, {\"name\": \"Paying User\", \"type\": \"scatter\", \"x\": [\"Jan-17\", \"Feb-17\", \"Mar-17\", \"Apr-17\", \"May-17\", \"Jun-17\", \"Jul-17\", \"Aug-17\", \"Sep-17\", \"Oct-17\", \"Nov-17\", \"Dec-17\", \"Jan-18\", \"Feb-18\", \"Mar-18\", \"Apr-18\", \"May-18\", \"Jun-18\", \"Jul-18\", \"Aug-18\", \"Sep-18\", \"Oct-18\", \"Nov-18\", \"Dec-18\", \"Jan-19\"], \"xaxis\": \"x4\", \"y\": [0.7767332549941247, 0.8707403055229144, 0.7414806110458285, 0.6239717978848415, 0.6274970622796711, 1.0, 0.24794359576968278, 0.21269095182138664, 0.20094007050528795, 0.20211515863689783, 0.07403055229142187, 0.07403055229142187, 0.07168037602820214, 0.0528789659224442, 0.04817861339600472, 0.036427732079906, 0.04230317273795535, 0.04347826086956523, 0.024676850763807295, 0.017626321974148065, 0.01880141010575793, 0.01880141010575793, 0.017626321974148065, 0.007050528789659229, 0.0], \"yaxis\": \"y7\"}, {\"line\": {\"color\": \"#ccf6c8\"}, \"mode\": \"lines+markers\", \"name\": \"Gross Revenue\", \"type\": \"scatter\", \"x\": [\"Jan-17\", \"Feb-17\", \"Mar-17\", \"Apr-17\", \"May-17\", \"Jun-17\", \"Jul-17\", \"Aug-17\", \"Sep-17\", \"Oct-17\", \"Nov-17\", \"Dec-17\", \"Jan-18\", \"Feb-18\", \"Mar-18\", \"Apr-18\", \"May-18\", \"Jun-18\", \"Jul-18\", \"Aug-18\", \"Sep-18\", \"Oct-18\", \"Nov-18\", \"Dec-18\", \"Jan-19\"], \"xaxis\": \"x4\", \"y\": [1.0, 0.621101740534721, 0.660982799723155, 0.6076850119197149, 0.6412601573915049, 0.5845992156058547, 0.39372997359719053, 0.23970162261926123, 0.21055087026736052, 0.18645510240701343, 0.0005998308169490657, 0.0, 0.1359975391556228, 0.1250877957499167, 0.10548306887800876, 0.0706775012176053, 0.0908205377970316, 0.1023147317423291, 0.07921355515111123, 0.06855502294224705, 0.0751787957242829, 0.07596318986952398, 0.09137422778190767, 0.1310297095690959, 0.09810053574632795], \"yaxis\": \"y7\"}],\n",
       "                        {\"annotations\": [{\"font\": {\"color\": \"#ffffff\", \"size\": 12}, \"showarrow\": false, \"text\": \"Gross Revenue VS New User, DAU\", \"x\": 0.47, \"xanchor\": \"center\", \"xref\": \"paper\", \"y\": 1.0, \"yanchor\": \"bottom\", \"yref\": \"paper\"}, {\"font\": {\"color\": \"#ffffff\", \"size\": 12}, \"showarrow\": false, \"text\": \"Gross Revenue VS ARPPU, ARPDAU, Conversion Rate\", \"x\": 0.47, \"xanchor\": \"center\", \"xref\": \"paper\", \"y\": 0.7250000000000001, \"yanchor\": \"bottom\", \"yref\": \"paper\"}, {\"font\": {\"color\": \"#ffffff\", \"size\": 12}, \"showarrow\": false, \"text\": \"Gross Revenue VS Day 1, 7, 30 Retention, Avg. Session\", \"x\": 0.47, \"xanchor\": \"center\", \"xref\": \"paper\", \"y\": 0.45, \"yanchor\": \"bottom\", \"yref\": \"paper\"}, {\"font\": {\"color\": \"#ffffff\", \"size\": 12}, \"showarrow\": false, \"text\": \"Gross Revenue VS Daily Playing Time, Paying User\", \"x\": 0.47, \"xanchor\": \"center\", \"xref\": \"paper\", \"y\": 0.175, \"yanchor\": \"bottom\", \"yref\": \"paper\"}], \"height\": 600, \"hovermode\": \"x\", \"legend\": {\"font\": {\"size\": 10}}, \"shapes\": [{\"line\": {\"color\": \"white\", \"width\": 1}, \"type\": \"line\", \"x0\": \"Dec-17\", \"x1\": \"Dec-17\", \"xref\": \"x\", \"y0\": -0.2, \"y1\": 1.2, \"yref\": \"y\"}, {\"line\": {\"color\": \"white\", \"width\": 1}, \"type\": \"line\", \"x0\": \"Dec-17\", \"x1\": \"Dec-17\", \"xref\": \"x2\", \"y0\": -0.2, \"y1\": 1.2, \"yref\": \"y3\"}, {\"line\": {\"color\": \"white\", \"width\": 1}, \"type\": \"line\", \"x0\": \"Dec-17\", \"x1\": \"Dec-17\", \"xref\": \"x3\", \"y0\": -0.2, \"y1\": 1.2, \"yref\": \"y5\"}, {\"line\": {\"color\": \"white\", \"width\": 1}, \"type\": \"line\", \"x0\": \"Dec-17\", \"x1\": \"Dec-17\", \"xref\": \"x4\", \"y0\": -0.2, \"y1\": 1.2, \"yref\": \"y7\"}], \"template\": {\"data\": {\"bar\": [{\"error_x\": {\"color\": \"#f2f5fa\"}, \"error_y\": {\"color\": \"#f2f5fa\"}, \"marker\": {\"line\": {\"color\": \"rgb(17,17,17)\", \"width\": 0.5}}, \"type\": \"bar\"}], \"barpolar\": [{\"marker\": {\"line\": {\"color\": \"rgb(17,17,17)\", \"width\": 0.5}}, \"type\": \"barpolar\"}], \"carpet\": [{\"aaxis\": {\"endlinecolor\": \"#A2B1C6\", \"gridcolor\": \"#506784\", \"linecolor\": \"#506784\", \"minorgridcolor\": \"#506784\", \"startlinecolor\": \"#A2B1C6\"}, \"baxis\": {\"endlinecolor\": \"#A2B1C6\", \"gridcolor\": \"#506784\", \"linecolor\": \"#506784\", \"minorgridcolor\": \"#506784\", \"startlinecolor\": \"#A2B1C6\"}, \"type\": \"carpet\"}], \"choropleth\": [{\"colorbar\": {\"outlinewidth\": 0, \"ticks\": \"\"}, \"type\": \"choropleth\"}], \"contour\": [{\"colorbar\": {\"outlinewidth\": 0, \"ticks\": \"\"}, \"colorscale\": [[0.0, \"#0d0887\"], [0.1111111111111111, \"#46039f\"], [0.2222222222222222, \"#7201a8\"], [0.3333333333333333, \"#9c179e\"], [0.4444444444444444, \"#bd3786\"], [0.5555555555555556, \"#d8576b\"], [0.6666666666666666, \"#ed7953\"], [0.7777777777777778, \"#fb9f3a\"], [0.8888888888888888, \"#fdca26\"], [1.0, \"#f0f921\"]], \"type\": \"contour\"}], \"contourcarpet\": [{\"colorbar\": {\"outlinewidth\": 0, \"ticks\": \"\"}, \"type\": \"contourcarpet\"}], \"heatmap\": [{\"colorbar\": {\"outlinewidth\": 0, \"ticks\": \"\"}, \"colorscale\": [[0.0, \"#0d0887\"], [0.1111111111111111, \"#46039f\"], [0.2222222222222222, \"#7201a8\"], [0.3333333333333333, \"#9c179e\"], [0.4444444444444444, \"#bd3786\"], [0.5555555555555556, \"#d8576b\"], [0.6666666666666666, \"#ed7953\"], [0.7777777777777778, \"#fb9f3a\"], [0.8888888888888888, \"#fdca26\"], [1.0, \"#f0f921\"]], \"type\": \"heatmap\"}], \"heatmapgl\": [{\"colorbar\": {\"outlinewidth\": 0, \"ticks\": \"\"}, \"colorscale\": [[0.0, \"#0d0887\"], [0.1111111111111111, \"#46039f\"], [0.2222222222222222, \"#7201a8\"], [0.3333333333333333, \"#9c179e\"], [0.4444444444444444, \"#bd3786\"], [0.5555555555555556, \"#d8576b\"], [0.6666666666666666, \"#ed7953\"], [0.7777777777777778, \"#fb9f3a\"], [0.8888888888888888, \"#fdca26\"], [1.0, \"#f0f921\"]], \"type\": \"heatmapgl\"}], \"histogram\": [{\"marker\": {\"colorbar\": {\"outlinewidth\": 0, \"ticks\": \"\"}}, \"type\": \"histogram\"}], \"histogram2d\": [{\"colorbar\": {\"outlinewidth\": 0, \"ticks\": \"\"}, \"colorscale\": [[0.0, \"#0d0887\"], [0.1111111111111111, \"#46039f\"], [0.2222222222222222, \"#7201a8\"], [0.3333333333333333, \"#9c179e\"], [0.4444444444444444, \"#bd3786\"], [0.5555555555555556, \"#d8576b\"], [0.6666666666666666, \"#ed7953\"], [0.7777777777777778, \"#fb9f3a\"], [0.8888888888888888, \"#fdca26\"], [1.0, \"#f0f921\"]], \"type\": \"histogram2d\"}], \"histogram2dcontour\": [{\"colorbar\": {\"outlinewidth\": 0, \"ticks\": \"\"}, \"colorscale\": [[0.0, \"#0d0887\"], [0.1111111111111111, \"#46039f\"], [0.2222222222222222, \"#7201a8\"], [0.3333333333333333, \"#9c179e\"], [0.4444444444444444, \"#bd3786\"], [0.5555555555555556, \"#d8576b\"], [0.6666666666666666, \"#ed7953\"], [0.7777777777777778, \"#fb9f3a\"], [0.8888888888888888, \"#fdca26\"], [1.0, \"#f0f921\"]], \"type\": \"histogram2dcontour\"}], \"mesh3d\": [{\"colorbar\": {\"outlinewidth\": 0, \"ticks\": \"\"}, \"type\": \"mesh3d\"}], \"parcoords\": [{\"line\": {\"colorbar\": {\"outlinewidth\": 0, \"ticks\": \"\"}}, \"type\": \"parcoords\"}], \"pie\": [{\"automargin\": true, \"type\": \"pie\"}], \"scatter\": [{\"marker\": {\"line\": {\"color\": \"#283442\"}}, \"type\": \"scatter\"}], \"scatter3d\": [{\"line\": {\"colorbar\": {\"outlinewidth\": 0, \"ticks\": \"\"}}, \"marker\": {\"colorbar\": {\"outlinewidth\": 0, \"ticks\": \"\"}}, \"type\": \"scatter3d\"}], \"scattercarpet\": [{\"marker\": {\"colorbar\": {\"outlinewidth\": 0, \"ticks\": \"\"}}, \"type\": \"scattercarpet\"}], \"scattergeo\": [{\"marker\": {\"colorbar\": {\"outlinewidth\": 0, \"ticks\": \"\"}}, \"type\": \"scattergeo\"}], \"scattergl\": [{\"marker\": {\"line\": {\"color\": \"#283442\"}}, \"type\": \"scattergl\"}], \"scattermapbox\": [{\"marker\": {\"colorbar\": {\"outlinewidth\": 0, \"ticks\": \"\"}}, \"type\": \"scattermapbox\"}], \"scatterpolar\": [{\"marker\": {\"colorbar\": {\"outlinewidth\": 0, \"ticks\": \"\"}}, \"type\": \"scatterpolar\"}], \"scatterpolargl\": [{\"marker\": {\"colorbar\": {\"outlinewidth\": 0, \"ticks\": \"\"}}, \"type\": \"scatterpolargl\"}], \"scatterternary\": [{\"marker\": {\"colorbar\": {\"outlinewidth\": 0, \"ticks\": \"\"}}, \"type\": \"scatterternary\"}], \"surface\": [{\"colorbar\": {\"outlinewidth\": 0, \"ticks\": \"\"}, \"colorscale\": [[0.0, \"#0d0887\"], [0.1111111111111111, \"#46039f\"], [0.2222222222222222, \"#7201a8\"], [0.3333333333333333, \"#9c179e\"], [0.4444444444444444, \"#bd3786\"], [0.5555555555555556, \"#d8576b\"], [0.6666666666666666, \"#ed7953\"], [0.7777777777777778, \"#fb9f3a\"], [0.8888888888888888, \"#fdca26\"], [1.0, \"#f0f921\"]], \"type\": \"surface\"}], \"table\": [{\"cells\": {\"fill\": {\"color\": \"#506784\"}, \"line\": {\"color\": \"rgb(17,17,17)\"}}, \"header\": {\"fill\": {\"color\": \"#2a3f5f\"}, \"line\": {\"color\": \"rgb(17,17,17)\"}}, \"type\": \"table\"}]}, \"layout\": {\"annotationdefaults\": {\"arrowcolor\": \"#f2f5fa\", \"arrowhead\": 0, \"arrowwidth\": 1}, \"coloraxis\": {\"colorbar\": {\"outlinewidth\": 0, \"ticks\": \"\"}}, \"colorscale\": {\"diverging\": [[0, \"#8e0152\"], [0.1, \"#c51b7d\"], [0.2, \"#de77ae\"], [0.3, \"#f1b6da\"], [0.4, \"#fde0ef\"], [0.5, \"#f7f7f7\"], [0.6, \"#e6f5d0\"], [0.7, \"#b8e186\"], [0.8, \"#7fbc41\"], [0.9, \"#4d9221\"], [1, \"#276419\"]], \"sequential\": [[0.0, \"#0d0887\"], [0.1111111111111111, \"#46039f\"], [0.2222222222222222, \"#7201a8\"], [0.3333333333333333, \"#9c179e\"], [0.4444444444444444, \"#bd3786\"], [0.5555555555555556, \"#d8576b\"], [0.6666666666666666, \"#ed7953\"], [0.7777777777777778, \"#fb9f3a\"], [0.8888888888888888, \"#fdca26\"], [1.0, \"#f0f921\"]], \"sequentialminus\": [[0.0, \"#0d0887\"], [0.1111111111111111, \"#46039f\"], [0.2222222222222222, \"#7201a8\"], [0.3333333333333333, \"#9c179e\"], [0.4444444444444444, \"#bd3786\"], [0.5555555555555556, \"#d8576b\"], [0.6666666666666666, \"#ed7953\"], [0.7777777777777778, \"#fb9f3a\"], [0.8888888888888888, \"#fdca26\"], [1.0, \"#f0f921\"]]}, \"colorway\": [\"#636efa\", \"#EF553B\", \"#00cc96\", \"#ab63fa\", \"#FFA15A\", \"#19d3f3\", \"#FF6692\", \"#B6E880\", \"#FF97FF\", \"#FECB52\"], \"font\": {\"color\": \"#f2f5fa\"}, \"geo\": {\"bgcolor\": \"rgb(17,17,17)\", \"lakecolor\": \"rgb(17,17,17)\", \"landcolor\": \"rgb(17,17,17)\", \"showlakes\": true, \"showland\": true, \"subunitcolor\": \"#506784\"}, \"hoverlabel\": {\"align\": \"left\"}, \"hovermode\": \"closest\", \"mapbox\": {\"style\": \"dark\"}, \"paper_bgcolor\": \"#30404D\", \"plot_bgcolor\": \"#30404D\", \"polar\": {\"angularaxis\": {\"gridcolor\": \"#506784\", \"linecolor\": \"#506784\", \"ticks\": \"\"}, \"bgcolor\": \"rgb(17,17,17)\", \"radialaxis\": {\"gridcolor\": \"#506784\", \"linecolor\": \"#506784\", \"ticks\": \"\"}}, \"scene\": {\"xaxis\": {\"backgroundcolor\": \"rgb(17,17,17)\", \"gridcolor\": \"#506784\", \"gridwidth\": 2, \"linecolor\": \"#506784\", \"showbackground\": true, \"ticks\": \"\", \"zerolinecolor\": \"#C8D4E3\"}, \"yaxis\": {\"backgroundcolor\": \"rgb(17,17,17)\", \"gridcolor\": \"#506784\", \"gridwidth\": 2, \"linecolor\": \"#506784\", \"showbackground\": true, \"ticks\": \"\", \"zerolinecolor\": \"#C8D4E3\"}, \"zaxis\": {\"backgroundcolor\": \"rgb(17,17,17)\", \"gridcolor\": \"#506784\", \"gridwidth\": 2, \"linecolor\": \"#506784\", \"showbackground\": true, \"ticks\": \"\", \"zerolinecolor\": \"#C8D4E3\"}}, \"shapedefaults\": {\"line\": {\"color\": \"#f2f5fa\"}}, \"sliderdefaults\": {\"bgcolor\": \"#C8D4E3\", \"bordercolor\": \"rgb(17,17,17)\", \"borderwidth\": 1, \"tickwidth\": 0}, \"ternary\": {\"aaxis\": {\"gridcolor\": \"#506784\", \"linecolor\": \"#506784\", \"ticks\": \"\"}, \"baxis\": {\"gridcolor\": \"#506784\", \"linecolor\": \"#506784\", \"ticks\": \"\"}, \"bgcolor\": \"rgb(17,17,17)\", \"caxis\": {\"gridcolor\": \"#506784\", \"linecolor\": \"#506784\", \"ticks\": \"\"}}, \"title\": {\"x\": 0.05}, \"updatemenudefaults\": {\"bgcolor\": \"#506784\", \"borderwidth\": 0}, \"xaxis\": {\"automargin\": true, \"gridcolor\": \"#4f687d\", \"linecolor\": \"#506784\", \"ticks\": \"\", \"title\": {\"standoff\": 15}, \"zerolinecolor\": \"#283442\", \"zerolinewidth\": 2}, \"yaxis\": {\"automargin\": true, \"gridcolor\": \"#4f687d\", \"linecolor\": \"#506784\", \"ticks\": \"\", \"title\": {\"standoff\": 15}, \"zerolinecolor\": \"#283442\", \"zerolinewidth\": 2}}}, \"width\": 800, \"xaxis\": {\"anchor\": \"y\", \"domain\": [0.0, 0.94], \"matches\": \"x4\", \"showgrid\": false, \"showticklabels\": false, \"visible\": false}, \"xaxis2\": {\"anchor\": \"y3\", \"domain\": [0.0, 0.94], \"matches\": \"x4\", \"showgrid\": false, \"showticklabels\": false, \"visible\": false}, \"xaxis3\": {\"anchor\": \"y5\", \"domain\": [0.0, 0.94], \"matches\": \"x4\", \"showgrid\": false, \"showticklabels\": false, \"visible\": false}, \"xaxis4\": {\"anchor\": \"y7\", \"domain\": [0.0, 0.94], \"showgrid\": false, \"visible\": false}, \"yaxis\": {\"anchor\": \"x\", \"domain\": [0.825, 1.0], \"showgrid\": false, \"visible\": false}, \"yaxis2\": {\"anchor\": \"x\", \"overlaying\": \"y\", \"showgrid\": false, \"side\": \"right\", \"visible\": false}, \"yaxis3\": {\"anchor\": \"x2\", \"domain\": [0.55, 0.7250000000000001], \"showgrid\": false, \"visible\": false}, \"yaxis4\": {\"anchor\": \"x2\", \"overlaying\": \"y3\", \"showgrid\": false, \"side\": \"right\", \"visible\": false}, \"yaxis5\": {\"anchor\": \"x3\", \"domain\": [0.275, 0.45], \"showgrid\": false, \"visible\": false}, \"yaxis6\": {\"anchor\": \"x3\", \"overlaying\": \"y5\", \"showgrid\": false, \"side\": \"right\", \"visible\": false}, \"yaxis7\": {\"anchor\": \"x4\", \"domain\": [0.0, 0.175], \"showgrid\": false, \"visible\": false}, \"yaxis8\": {\"anchor\": \"x4\", \"overlaying\": \"y7\", \"showgrid\": false, \"side\": \"right\", \"visible\": false}},\n",
       "                        {\"responsive\": true}\n",
       "                    ).then(function(){\n",
       "                            \n",
       "var gd = document.getElementById('1fd42154-8fb1-498a-b898-8d73257e5076');\n",
       "var x = new MutationObserver(function (mutations, observer) {{\n",
       "        var display = window.getComputedStyle(gd).display;\n",
       "        if (!display || display === 'none') {{\n",
       "            console.log([gd, 'removed!']);\n",
       "            Plotly.purge(gd);\n",
       "            observer.disconnect();\n",
       "        }}\n",
       "}});\n",
       "\n",
       "// Listen for the removal of the full notebook cells\n",
       "var notebookContainer = gd.closest('#notebook-container');\n",
       "if (notebookContainer) {{\n",
       "    x.observe(notebookContainer, {childList: true});\n",
       "}}\n",
       "\n",
       "// Listen for the clearing of the current output cell\n",
       "var outputEl = gd.closest('.output');\n",
       "if (outputEl) {{\n",
       "    x.observe(outputEl, {childList: true});\n",
       "}}\n",
       "\n",
       "                        })\n",
       "                };\n",
       "                });\n",
       "            </script>\n",
       "        </div>"
      ]
     },
     "metadata": {},
     "output_type": "display_data"
    }
   ],
   "source": [
    "df = df_norm_.copy()\n",
    "\n",
    "fig = make_subplots(specs=[[{\"secondary_y\": True}], \n",
    "                           [{\"secondary_y\": True}], \n",
    "                           [{\"secondary_y\": True}],\n",
    "                           [{\"secondary_y\": True}]],\n",
    "                    subplot_titles=(\"Gross Revenue VS New User, DAU\", \n",
    "                                    \"Gross Revenue VS ARPPU, ARPDAU, Conversion Rate\", \n",
    "                                    \"Gross Revenue VS Day 1, 7, 30 Retention, Avg. Session\",\n",
    "                                    \"Gross Revenue VS Daily Playing Time, Paying User\"),\n",
    "                    rows=4,\n",
    "                    cols=1,\n",
    "                    shared_xaxes=True, \n",
    "                    vertical_spacing=0.1)\n",
    "\n",
    "fig.append_trace(go.Scatter(y=df['New User'], x=df['index'], name='New User'),\n",
    "              row=1,\n",
    "              col=1)\n",
    "\n",
    "\n",
    "fig.append_trace(go.Scatter(y=df['DAU'], x=df['index'], name='DAU'),\n",
    "              row=1,\n",
    "              col=1)\n",
    "\n",
    "\n",
    "\n",
    "fig.append_trace(go.Scatter(y=df['Gross Revenue'],\n",
    "                         x=df['index'],\n",
    "                         name='Gross Revenue',\n",
    "                         mode='lines+markers',\n",
    "                         line=dict(color='#ccf6c8')),\n",
    "              row=1,\n",
    "              col=1)\n",
    "\n",
    "\n",
    "\n",
    "fig.append_trace(go.Scatter(y=df['ARPPU'], x=df['index'], name='ARPPU'),\n",
    "              row=2,\n",
    "              col=1)\n",
    "\n",
    "fig.append_trace(go.Scatter(y=df['ARPDAU'], x=df['index'], name='ARPDAU'),\n",
    "              row=2,\n",
    "              col=1)\n",
    "\n",
    "fig.append_trace(go.Scatter(y=df['Conversion Rate'], x=df['index'], name='Conversion Rate'),\n",
    "              row=2,\n",
    "              col=1)\n",
    "\n",
    "\n",
    "\n",
    "fig.append_trace(go.Scatter(y=df['Gross Revenue'],\n",
    "                         x=df['index'],\n",
    "                         name='Gross Revenue',\n",
    "                         mode='lines+markers',\n",
    "                         line=dict(color='#ccf6c8')),\n",
    "              row=2,\n",
    "              col=1)\n",
    "\n",
    "fig.append_trace(go.Scatter(y=df['D1 Retention'], x=df['index'], name='D1 Retention'),\n",
    "              row=3,\n",
    "              col=1)\n",
    "\n",
    "fig.append_trace(go.Scatter(y=df['D7 Retention'], x=df['index'], name='D7 Retention'),\n",
    "              row=3,\n",
    "              col=1)\n",
    "                 \n",
    "fig.append_trace(go.Scatter(y=df['D30 Retention'], x=df['index'], name='D30 Retention'),\n",
    "              row=3,\n",
    "              col=1)\n",
    "\n",
    "fig.append_trace(go.Scatter(y=df['Avg. Session'], x=df['index'], name='Avg. Session'),\n",
    "              row=3,\n",
    "              col=1)\n",
    "\n",
    "fig.append_trace(go.Scatter(y=df['Gross Revenue'],\n",
    "                         x=df['index'],\n",
    "                         name='Gross Revenue',\n",
    "                         mode='lines+markers',\n",
    "                         line=dict(color='#ccf6c8')),\n",
    "              row=3,\n",
    "              col=1)\n",
    "\n",
    "fig.append_trace(go.Scatter(y=df['Playtime'], x=df['index'], name='Playtime'),\n",
    "              row=4,\n",
    "              col=1)\n",
    "\n",
    "fig.append_trace(go.Scatter(y=df['Paying User'], x=df['index'], name='Paying User'),\n",
    "              row=4,\n",
    "              col=1)\n",
    "\n",
    "fig.append_trace(go.Scatter(y=df['Gross Revenue'],\n",
    "                         x=df['index'],\n",
    "                         name='Gross Revenue',\n",
    "                         mode='lines+markers',\n",
    "                         line=dict(color='#ccf6c8')),\n",
    "              row=4,\n",
    "              col=1)\n",
    "\n",
    "fig.add_shape(type=\"line\",\n",
    "    x0='Dec-17', y0=-0.2, x1='Dec-17', y1=1.2,\n",
    "    line=dict(color=\"white\",width=1), row=1, col=1\n",
    ")\n",
    "\n",
    "fig.add_shape(type=\"line\",\n",
    "    x0='Dec-17', y0=-0.2, x1='Dec-17', y1=1.2,\n",
    "    line=dict(color=\"white\",width=1), row=2, col=1\n",
    ")\n",
    "\n",
    "fig.add_shape(type=\"line\",\n",
    "    x0='Dec-17', y0=-0.2, x1='Dec-17', y1=1.2,\n",
    "    line=dict(color=\"white\",width=1), row=3, col=1\n",
    ")\n",
    "\n",
    "fig.add_shape(type=\"line\",\n",
    "    x0='Dec-17', y0=-0.2, x1='Dec-17', y1=1.2,\n",
    "    line=dict(color=\"white\",width=1), row=4, col=1\n",
    ")\n",
    "\n",
    "for i in fig['layout']['annotations']:\n",
    "    i['font'] = dict(size=12,color='#ffffff')\n",
    "\n",
    "fig.update_layout(template='custom_dark',\n",
    "                  hovermode='x',\n",
    "                  xaxis=dict(showgrid=False, visible=False),\n",
    "                  xaxis2=dict(showgrid=False, visible=False),\n",
    "                  xaxis3=dict(showgrid=False, visible=False),\n",
    "                  xaxis4=dict(showgrid=False, visible=False),\n",
    "                  yaxis=dict(showgrid=False, visible=False),\n",
    "                  yaxis2=dict(showgrid=False, visible=False),\n",
    "                  yaxis3=dict(showgrid=False, visible=False),\n",
    "                  yaxis4=dict(showgrid=False, visible=False),\n",
    "                  yaxis5=dict(showgrid=False, visible=False),\n",
    "                  yaxis6=dict(showgrid=False, visible=False),\n",
    "                  yaxis7=dict(showgrid=False, visible=False),\n",
    "                  yaxis8=dict(showgrid=False, visible=False),\n",
    "                  height=600,\n",
    "                  width=800,\n",
    "                  legend=dict(font=dict(size=10)))"
   ]
  },
  {
   "cell_type": "markdown",
   "metadata": {},
   "source": [
    "Note: I created the graph to help me see patterns in the KPIs better. It's an interactive graph, but the all the KPIs have been scaled to a range of 0 to 1 so that I can see the movements in the numbers better. You can click on each of the legend's items to remove an item or double click on the items to isolate it.\n",
    "\n",
    "**1.What do you think is 2 most Important KP's that Tim must know to increase Game X Revenue?**\n",
    "\n",
    "I think the main Key Performance Indicators (KPI) that reflect the movement of Game X's revenue is New User and Retention Rate, especially Day-7 Retention. \n",
    "\n",
    "\n",
    "\n",
    "If you look at the chart above, there are some KPIs whose movements are correlated with Gross Revenue's, namely New User, DAU, Day-1 Retention, Day-7 Retention, and Paying User. I didn't choose Paying User since it is obviously the main predictor of Gross Revenue so taking a look at it will be pointless in this case. \n",
    "\n",
    "Firstly, why Day-7 Retention instead of DAU? DAU is at least as good as New User at predicting the movement of Gross Revenue. The reason why I didn't include it is because it's driven by retention rate. Having a lot of new users doesn't equal having high DAU; that can be achieved only if users come back to your game after downloading it or in other words, a decent retention rate. Day-7 also seems to be a good indicator of how committed the player is to the game, whether they're ready to dive deeper into the game and buy some in-game items. It can be the case that a lot of players start to do in-app purchase around this time, thus its high correlation with Gross Revenue.\n",
    "\n",
    "As to New User, I think it's important for a game to keep bringing in new users to keep revenues constant or higher. The simple reason why it's important is the more users, the more paying users. The subtle reason is there are only so many items in the game or possibly, putting ourselves in the players' shoes, there are only so many good items in the game. Considering players' limited budget, a lot of them will  buy a number of items before settling down, not buy anymore items until a really good one gets released in the future or maybe, never buy anything again. Even if you already have a relatively large total users, when you're reluctant to put efforts into bringing in new users, your revenue will sooner or later go down.\n",
    "\n",
    "\n",
    "\n",
    "**2.What do you think is the problem of Game X?**\n",
    "\n",
    "\n",
    "\n",
    "Corroborating my first answer, I think the main problem Game X is facing is not bringing in enough new users. Game X's revenue starts dipping after June 2017, coincidentally after Marketing Division significantly reduced Game X's marketing campaigns. Another problem is the decreasing retention rate. From the funnel data, it can be traced to the higher churt rate after getting to splash screen, finishing download, and finishing tutorial 1 in 2018 compared to 2017. \n",
    "\n",
    "However, of the two, I think the first one is the more serious one. It can be seen from the graph that even after a significant dip in retention in December 2017, the level of D1 and D30 retention in 2018 is not that much lower compared to 2017's levels, and in some points, the level are about the same or higher than the levels in the latter half in 2017. This means that content-wise, the game in 2018 is at least as good or even better than it was in 2017. The huge upgrade in the game in the beginning of 2018 especially seems to contribute to the uplift in 2018's retention.\n",
    "\n",
    "\n",
    "\n",
    "**3.What suggestion you will give as data analyst to help Tim increase both Performance and Revenue?**\n",
    "\n",
    "\n",
    "\n",
    "Based on the problems I identified and explained in problem 2, my solution is to focus the efforts on bringing in new users. I don't think adding new shiny items or adding more content will bring you that much more revenue, at least not when your game is free to play and you can't keep your number of daily active users stable. Good content will translate to more revenue if there is a constant number of in-app purchases in your game and as I explained in my first answer, the only reliable way to achieve that is to KEEP bringing in new customers. You can put (more) in-game ads like many other free-to-plays of course, but that is a really tricky path to walk: too much ads will drive the players away and too little ads won't contribute anything to your revenue. I also don't think it makes much sense to spend money on marketing and put ad-walls in your game.\n",
    "\n",
    "Talking about the retention rate, I think the numbers are already good enough as it is. If you want to make a meaningful improvement on retention, I think you should troubleshoot 2018's high churn rate after the splash screen since that's where you're losing most of your new players."
   ]
  },
  {
   "cell_type": "markdown",
   "metadata": {},
   "source": []
  }
 ],
 "metadata": {
  "kernelspec": {
   "display_name": "Python 3",
   "language": "python",
   "name": "python3"
  },
  "language_info": {
   "codemirror_mode": {
    "name": "ipython",
    "version": 3
   },
   "file_extension": ".py",
   "mimetype": "text/x-python",
   "name": "python",
   "nbconvert_exporter": "python",
   "pygments_lexer": "ipython3",
   "version": "3.8.3"
  },
  "toc": {
   "base_numbering": 1,
   "nav_menu": {},
   "number_sections": true,
   "sideBar": true,
   "skip_h1_title": false,
   "title_cell": "Table of Contents",
   "title_sidebar": "Contents",
   "toc_cell": false,
   "toc_position": {},
   "toc_section_display": true,
   "toc_window_display": false
  },
  "varInspector": {
   "cols": {
    "lenName": 16,
    "lenType": 16,
    "lenVar": 40
   },
   "kernels_config": {
    "python": {
     "delete_cmd_postfix": "",
     "delete_cmd_prefix": "del ",
     "library": "var_list.py",
     "varRefreshCmd": "print(var_dic_list())"
    },
    "r": {
     "delete_cmd_postfix": ") ",
     "delete_cmd_prefix": "rm(",
     "library": "var_list.r",
     "varRefreshCmd": "cat(var_dic_list()) "
    }
   },
   "types_to_exclude": [
    "module",
    "function",
    "builtin_function_or_method",
    "instance",
    "_Feature"
   ],
   "window_display": false
  }
 },
 "nbformat": 4,
 "nbformat_minor": 4
}
